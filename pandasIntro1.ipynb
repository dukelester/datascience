{
 "cells": [
  {
   "cell_type": "markdown",
   "metadata": {},
   "source": [
    "# PANDAS TUTORIAL\n"
   ]
  },
  {
   "cell_type": "code",
   "execution_count": 1,
   "metadata": {},
   "outputs": [
    {
     "name": "stdout",
     "output_type": "stream",
     "text": [
      "1.0.5\n"
     ]
    }
   ],
   "source": [
    "import pandas as pd\n",
    "#check the version of pandas\n",
    "print(pd.__version__)"
   ]
  },
  {
   "cell_type": "markdown",
   "metadata": {},
   "source": [
    "# series : create,manipulate,querry,delete\n"
   ]
  },
  {
   "cell_type": "code",
   "execution_count": 2,
   "metadata": {},
   "outputs": [
    {
     "data": {
      "text/plain": [
       "0    45\n",
       "1     7\n",
       "2    89\n",
       "3    90\n",
       "4    56\n",
       "5    45\n",
       "dtype: int64"
      ]
     },
     "execution_count": 2,
     "metadata": {},
     "output_type": "execute_result"
    }
   ],
   "source": [
    "#creating a series from a list\n",
    "arr = [45,7,89,90,56,45]\n",
    "series1 = pd.Series(arr)\n",
    "series1"
   ]
  },
  {
   "cell_type": "code",
   "execution_count": 3,
   "metadata": {},
   "outputs": [
    {
     "data": {
      "text/plain": [
       "1    45\n",
       "2     7\n",
       "3    89\n",
       "4    90\n",
       "5    56\n",
       "6    45\n",
       "dtype: int64"
      ]
     },
     "execution_count": 3,
     "metadata": {},
     "output_type": "execute_result"
    }
   ],
   "source": [
    "order = [1,2,3,4,5,6]\n",
    "series2 = pd.Series(arr, index=order)\n",
    "series2"
   ]
  },
  {
   "cell_type": "code",
   "execution_count": 4,
   "metadata": {},
   "outputs": [
    {
     "data": {
      "text/plain": [
       "a    0.597666\n",
       "b   -0.757751\n",
       "c    1.187727\n",
       "d   -0.101181\n",
       "e   -2.113414\n",
       "dtype: float64"
      ]
     },
     "execution_count": 4,
     "metadata": {},
     "output_type": "execute_result"
    }
   ],
   "source": [
    "#creating a series from an array\n",
    "import numpy as np\n",
    "import pandas as pd\n",
    "n = np.random.randn(5) # 5 random numbers array\n",
    "n\n",
    "index = ['a', 'b', 'c', 'd','e']\n",
    "s2 = pd.Series(n, index=index)\n",
    "s2"
   ]
  },
  {
   "cell_type": "code",
   "execution_count": 5,
   "metadata": {},
   "outputs": [
    {
     "data": {
      "text/plain": [
       "a    20\n",
       "b    56\n",
       "c    68\n",
       "dtype: int64"
      ]
     },
     "execution_count": 5,
     "metadata": {},
     "output_type": "execute_result"
    }
   ],
   "source": [
    "#creating a series from a dictionay\n",
    "\n",
    "d = {'a':20, 'b':56, 'c':68}\n",
    "s3 = pd.Series(d)\n",
    "s3\n"
   ]
  },
  {
   "cell_type": "code",
   "execution_count": 6,
   "metadata": {},
   "outputs": [
    {
     "name": "stdout",
     "output_type": "stream",
     "text": [
      "0    45\n",
      "1     7\n",
      "2    89\n",
      "3    90\n",
      "4    56\n",
      "5    45\n",
      "dtype: int64\n"
     ]
    },
    {
     "data": {
      "text/plain": [
       "A    45\n",
       "B     7\n",
       "C    89\n",
       "D    90\n",
       "E    56\n",
       "F    45\n",
       "dtype: int64"
      ]
     },
     "execution_count": 6,
     "metadata": {},
     "output_type": "execute_result"
    }
   ],
   "source": [
    "#Resetting the index.\n",
    "print(series1)\n",
    "series1.index = ['A', 'B', 'C','D','E','F']\n",
    "series1"
   ]
  },
  {
   "cell_type": "code",
   "execution_count": 7,
   "metadata": {},
   "outputs": [
    {
     "data": {
      "text/plain": [
       "A    45\n",
       "B     7\n",
       "C    89\n",
       "dtype: int64"
      ]
     },
     "execution_count": 7,
     "metadata": {},
     "output_type": "execute_result"
    }
   ],
   "source": [
    "#slicing []\n",
    "a = series1[:3]\n",
    "a"
   ]
  },
  {
   "cell_type": "code",
   "execution_count": 8,
   "metadata": {},
   "outputs": [
    {
     "data": {
      "text/plain": [
       "a    20\n",
       "b    56\n",
       "c    68\n",
       "dtype: int64"
      ]
     },
     "execution_count": 8,
     "metadata": {},
     "output_type": "execute_result"
    }
   ],
   "source": [
    "s3"
   ]
  },
  {
   "cell_type": "code",
   "execution_count": 9,
   "metadata": {},
   "outputs": [
    {
     "data": {
      "text/plain": [
       "A     90.0\n",
       "B     14.0\n",
       "C    178.0\n",
       "D    180.0\n",
       "E    112.0\n",
       "F     90.0\n",
       "a      NaN\n",
       "b      NaN\n",
       "c      NaN\n",
       "dtype: float64"
      ]
     },
     "execution_count": 9,
     "metadata": {},
     "output_type": "execute_result"
    }
   ],
   "source": [
    "s4 = series1.append(s3)\n",
    "s4\n",
    "s4.add(series1)"
   ]
  },
  {
   "cell_type": "code",
   "execution_count": 10,
   "metadata": {},
   "outputs": [
    {
     "name": "stdout",
     "output_type": "stream",
     "text": [
      "A     90.0\n",
      "B     14.0\n",
      "C    178.0\n",
      "D    180.0\n",
      "E    112.0\n",
      "F     90.0\n",
      "a      NaN\n",
      "b      NaN\n",
      "c      NaN\n",
      "dtype: float64\n",
      "A   NaN\n",
      "B   NaN\n",
      "C   NaN\n",
      "D   NaN\n",
      "E   NaN\n",
      "F   NaN\n",
      "1   NaN\n",
      "2   NaN\n",
      "3   NaN\n",
      "4   NaN\n",
      "5   NaN\n",
      "6   NaN\n",
      "dtype: float64\n"
     ]
    }
   ],
   "source": [
    "#adding series\n",
    "add1 = s4.add(series1)\n",
    "print(add1)\n",
    "add2 = series1.add(series2)\n",
    "print(add2)"
   ]
  },
  {
   "cell_type": "code",
   "execution_count": 11,
   "metadata": {},
   "outputs": [],
   "source": [
    "# print('hello')\n"
   ]
  },
  {
   "cell_type": "code",
   "execution_count": 12,
   "metadata": {},
   "outputs": [
    {
     "name": "stdout",
     "output_type": "stream",
     "text": [
      "wow\n"
     ]
    }
   ],
   "source": [
    "print('wow')"
   ]
  },
  {
   "cell_type": "code",
   "execution_count": 13,
   "metadata": {},
   "outputs": [
    {
     "name": "stdout",
     "output_type": "stream",
     "text": [
      "1   NaN\n",
      "2   NaN\n",
      "3   NaN\n",
      "4   NaN\n",
      "5   NaN\n",
      "6   NaN\n",
      "A   NaN\n",
      "B   NaN\n",
      "C   NaN\n",
      "D   NaN\n",
      "E   NaN\n",
      "F   NaN\n",
      "a   NaN\n",
      "b   NaN\n",
      "c   NaN\n",
      "dtype: float64\n"
     ]
    }
   ],
   "source": [
    "#Subraticting series\n",
    "\n",
    "sub1 = add1.sub(add2)\n",
    "print(sub1)"
   ]
  },
  {
   "cell_type": "code",
   "execution_count": 14,
   "metadata": {},
   "outputs": [
    {
     "name": "stdout",
     "output_type": "stream",
     "text": [
      "addition 0    156\n",
      "1    180\n",
      "2    169\n",
      "3    130\n",
      "4     96\n",
      "dtype: int64\n",
      "subtraction 0    22\n",
      "1     0\n",
      "2    -9\n",
      "3    10\n",
      "4   -16\n",
      "dtype: int64\n",
      "multiplication  0    5963\n",
      "1    8100\n",
      "2    7120\n",
      "3    4200\n",
      "4    2240\n",
      "dtype: int64\n",
      "division is  0    0.752809\n",
      "1    1.000000\n",
      "2    1.112500\n",
      "3    0.857143\n",
      "4    1.400000\n",
      "dtype: float64\n",
      "The median is  1.0\n",
      "The maximum value in the myseries is  90\n",
      "The minimum value at myseries is 56\n"
     ]
    }
   ],
   "source": [
    "d = [67,90,89,60,56]\n",
    "myseries = pd.Series(d)\n",
    "e = [89,90,80,70,40]\n",
    "myseries2 = pd.Series(e)\n",
    "\n",
    "#addition using add()\n",
    "ans1 = myseries.add(myseries2)\n",
    "print('addition',ans1)\n",
    "#subtraction using sub()\n",
    "ans2 = myseries2.sub(myseries)\n",
    "print('subtraction',ans2)\n",
    "#multiplying series together using mul()\n",
    "ans3 = myseries.mul(myseries2)\n",
    "print('multiplication ',ans3)\n",
    "#division in series using div()\n",
    "\n",
    "ans4 = myseries.div(myseries2)\n",
    "print('division is ', ans4)\n",
    "#Median using median()\n",
    "median = ans4.median()\n",
    "print('The median is ', median)\n",
    "#max value using max()\n",
    "max1 = myseries.max()\n",
    "print('The maximum value in the myseries is ', max1)\n",
    "#minimum value using min()\n",
    "min1 = myseries.min()\n",
    "print('The minimum value at myseries is', min1)\n",
    "\n",
    "\n",
    "\n",
    "\n",
    "\n",
    "\n"
   ]
  },
  {
   "cell_type": "markdown",
   "metadata": {},
   "source": [
    "DATA FRAMES IN PANDAS"
   ]
  },
  {
   "cell_type": "code",
   "execution_count": 15,
   "metadata": {},
   "outputs": [
    {
     "name": "stdout",
     "output_type": "stream",
     "text": [
      "DatetimeIndex(['2021-04-11 22:56:12.254506', '2021-04-12 22:56:12.254506',\n",
      "               '2021-04-13 22:56:12.254506', '2021-04-14 22:56:12.254506',\n",
      "               '2021-04-15 22:56:12.254506', '2021-04-16 22:56:12.254506'],\n",
      "              dtype='datetime64[ns]', freq='D')\n",
      "[[ 0.2540545  -1.02106725 -1.14698074  0.48272455]\n",
      " [-0.96998786 -1.09135254  1.28035683  1.14125712]\n",
      " [-2.6415131  -1.03598393 -0.00986166 -0.93890562]\n",
      " [ 0.4244011   0.07968633  0.00361109 -1.44292175]\n",
      " [ 1.69855247 -1.72534188  1.1907634  -0.24952606]\n",
      " [-0.8647948  -1.16007933 -0.32274139  0.30931127]]\n",
      "values are [[ 0.2540545  -1.02106725 -1.14698074  0.48272455]\n",
      " [-0.96998786 -1.09135254  1.28035683  1.14125712]\n",
      " [-2.6415131  -1.03598393 -0.00986166 -0.93890562]\n",
      " [ 0.4244011   0.07968633  0.00361109 -1.44292175]\n",
      " [ 1.69855247 -1.72534188  1.1907634  -0.24952606]\n",
      " [-0.8647948  -1.16007933 -0.32274139  0.30931127]]\n"
     ]
    },
    {
     "data": {
      "text/plain": [
       "A   -0.349881\n",
       "dtype: float64"
      ]
     },
     "execution_count": 15,
     "metadata": {},
     "output_type": "execute_result"
    }
   ],
   "source": [
    "\n",
    "dates = pd.date_range('today',periods=6) #define time sequence as index\n",
    "print(dates)\n",
    "num_arr = np.random.randn(6,4) #numpy random array\n",
    "print(num_arr)\n",
    "columns = ['A','B','C', 'D'] #columns names for the table\n",
    "columns\n",
    "df = pd.DataFrame(num_arr,index=dates,columns=columns) #constructing a data frame\n",
    "df\n",
    "df.dtypes\n",
    "df.head(3)\n",
    "df.tail()\n",
    "df.index\n",
    "df.values\n",
    "print('values are',df.values)\n",
    "#discribe the data\n",
    "df.describe()\n",
    "#transposing the data\n",
    "df.T\n",
    "#slicing the data frame\n",
    "df[1:3]\n",
    "#query the dataframe\n",
    "df[['A', 'C']] #querying the columns using double [[ ]]\n",
    "df.iloc[1:3] #query rows  2,3 (i location)\n",
    "#copying the data using copy()\n",
    "df2 = df.copy()\n",
    "df2\n",
    "df2.isnull() #checking for n null values using isnull()\n",
    "#df2.loc['A','age'] = 80 #changing the value at a particular position using location ==>loc()\n",
    "df2.mean() #finding tyhe mean of the data using mean()\n",
    "df2[['A']].mean() #finding mean on a particular column using double [[ column ]]\n"
   ]
  },
  {
   "cell_type": "markdown",
   "metadata": {},
   "source": [
    "Operations for DataFrame missing values"
   ]
  },
  {
   "cell_type": "code",
   "execution_count": 16,
   "metadata": {},
   "outputs": [
    {
     "data": {
      "text/html": [
       "<div>\n",
       "<style scoped>\n",
       "    .dataframe tbody tr th:only-of-type {\n",
       "        vertical-align: middle;\n",
       "    }\n",
       "\n",
       "    .dataframe tbody tr th {\n",
       "        vertical-align: top;\n",
       "    }\n",
       "\n",
       "    .dataframe thead th {\n",
       "        text-align: right;\n",
       "    }\n",
       "</style>\n",
       "<table border=\"1\" class=\"dataframe\">\n",
       "  <thead>\n",
       "    <tr style=\"text-align: right;\">\n",
       "      <th></th>\n",
       "      <th>A</th>\n",
       "      <th>B</th>\n",
       "      <th>C</th>\n",
       "      <th>D</th>\n",
       "    </tr>\n",
       "  </thead>\n",
       "  <tbody>\n",
       "    <tr>\n",
       "      <th>2021-04-11 22:56:12.254506</th>\n",
       "      <td>0.254055</td>\n",
       "      <td>-1.021067</td>\n",
       "      <td>-1.146981</td>\n",
       "      <td>0.482725</td>\n",
       "    </tr>\n",
       "    <tr>\n",
       "      <th>2021-04-12 22:56:12.254506</th>\n",
       "      <td>-0.969988</td>\n",
       "      <td>-1.091353</td>\n",
       "      <td>1.280357</td>\n",
       "      <td>1.141257</td>\n",
       "    </tr>\n",
       "    <tr>\n",
       "      <th>2021-04-13 22:56:12.254506</th>\n",
       "      <td>-2.641513</td>\n",
       "      <td>-1.035984</td>\n",
       "      <td>-0.009862</td>\n",
       "      <td>-0.938906</td>\n",
       "    </tr>\n",
       "    <tr>\n",
       "      <th>2021-04-14 22:56:12.254506</th>\n",
       "      <td>0.424401</td>\n",
       "      <td>0.079686</td>\n",
       "      <td>0.003611</td>\n",
       "      <td>-1.442922</td>\n",
       "    </tr>\n",
       "    <tr>\n",
       "      <th>2021-04-15 22:56:12.254506</th>\n",
       "      <td>1.698552</td>\n",
       "      <td>-1.725342</td>\n",
       "      <td>1.190763</td>\n",
       "      <td>-0.249526</td>\n",
       "    </tr>\n",
       "    <tr>\n",
       "      <th>2021-04-16 22:56:12.254506</th>\n",
       "      <td>-0.864795</td>\n",
       "      <td>-1.160079</td>\n",
       "      <td>-0.322741</td>\n",
       "      <td>0.309311</td>\n",
       "    </tr>\n",
       "  </tbody>\n",
       "</table>\n",
       "</div>"
      ],
      "text/plain": [
       "                                   A         B         C         D\n",
       "2021-04-11 22:56:12.254506  0.254055 -1.021067 -1.146981  0.482725\n",
       "2021-04-12 22:56:12.254506 -0.969988 -1.091353  1.280357  1.141257\n",
       "2021-04-13 22:56:12.254506 -2.641513 -1.035984 -0.009862 -0.938906\n",
       "2021-04-14 22:56:12.254506  0.424401  0.079686  0.003611 -1.442922\n",
       "2021-04-15 22:56:12.254506  1.698552 -1.725342  1.190763 -0.249526\n",
       "2021-04-16 22:56:12.254506 -0.864795 -1.160079 -0.322741  0.309311"
      ]
     },
     "execution_count": 16,
     "metadata": {},
     "output_type": "execute_result"
    }
   ],
   "source": [
    "df3 = df2.copy()\n",
    "df3\n",
    "df3.fillna(3) #filling the nan with a value using fillna()\n",
    "df3.dropna(how='any') #drops /removes all the Nan or missing values using dropna(how='any')\n",
    "# df3\n",
    "\n",
    "#saving the file a csv\n",
    "# df3.to_csv('dates.csv')"
   ]
  },
  {
   "cell_type": "markdown",
   "metadata": {},
   "source": [
    "DataFrame file operations"
   ]
  },
  {
   "cell_type": "code",
   "execution_count": 17,
   "metadata": {},
   "outputs": [
    {
     "name": "stdout",
     "output_type": "stream",
     "text": [
      "      year    state state_po state_fips state_cen state_ic        office  \\\n",
      "0     1976  ALABAMA       AL          1        63       41  US PRESIDENT   \n",
      "1     1976  ALABAMA       AL          1        63       41  US PRESIDENT   \n",
      "2     1976  ALABAMA       AL          1        63       41  US PRESIDENT   \n",
      "3     1976  ALABAMA       AL          1        63       41  US PRESIDENT   \n",
      "4     1976  ALABAMA       AL          1        63       41  US PRESIDENT   \n",
      "...    ...      ...      ...        ...       ...      ...           ...   \n",
      "4282  2020  WYOMING       WY         56        83       68  US PRESIDENT   \n",
      "4283  2020  WYOMING       WY         56        83       68  US PRESIDENT   \n",
      "4284  2020  WYOMING       WY         56        83       68  US PRESIDENT   \n",
      "4285  2020  WYOMING       WY         56        83       68  US PRESIDENT   \n",
      "4286  2020  WYOMING       WY         56        83       68  US PRESIDENT   \n",
      "\n",
      "     candidatevotes totalvotes   version party_simplified  \n",
      "0            659170    1182850  20210113         DEMOCRAT  \n",
      "1            504070    1182850  20210113       REPUBLICAN  \n",
      "2              9198    1182850  20210113            OTHER  \n",
      "3              6669    1182850  20210113            OTHER  \n",
      "4              1954    1182850  20210113            OTHER  \n",
      "...             ...        ...       ...              ...  \n",
      "4282           5768     278503  20210113      LIBERTARIAN  \n",
      "4283           2208     278503  20210113            OTHER  \n",
      "4284           1739     278503  20210113            OTHER  \n",
      "4285            279     278503  20210113            OTHER  \n",
      "4286           1459     278503  20210113            OTHER  \n",
      "\n",
      "[4287 rows x 11 columns]\n"
     ]
    }
   ],
   "source": [
    "df3.to_csv('dates.csv') #saving as csv\n",
    "\n",
    "#loading data inform of csv\n",
    "president = pd.read_csv('president.csv')\n",
    "president\n",
    "president.head(20) #the head ==> The first 20 rows\n",
    "president.tail(20) #the tail ==> The last 20 rows\n",
    "#describing the data\n",
    "president.describe()\n",
    "#president.dropna(how='any') #drop all the nan values\n",
    "#president.T #transposing the data\n",
    "pred = president.T.dropna(how='any')\n",
    "print(pred.T)\n",
    "# president.T"
   ]
  },
  {
   "cell_type": "markdown",
   "metadata": {},
   "source": [
    "Visualization  in Pandas"
   ]
  },
  {
   "cell_type": "code",
   "execution_count": 28,
   "metadata": {},
   "outputs": [
    {
     "data": {
      "text/plain": [
       "<matplotlib.axes._subplots.AxesSubplot at 0x7f09ad00e4f0>"
      ]
     },
     "execution_count": 28,
     "metadata": {},
     "output_type": "execute_result"
    },
    {
     "data": {
      "image/png": "[encoded data removed]",
      "text/plain": [
       "<Figure size 432x288 with 1 Axes>"
      ]
     },
     "metadata": {
      "needs_background": "light"
     },
     "output_type": "display_data"
    }
   ],
   "source": [
    "# president\n",
    "import numpy as np\n",
    "import time\n",
    "# import matplotlib\n",
    "%matplotlib inline\n",
    "\n",
    "ts = pd.Series(np.random.randn(50),index=pd.date_range('today', periods=50))\n",
    "ts = ts.cumsum() \n",
    "#print(cumulative_sum)\n",
    "ts.plot()\n"
   ]
  },
  {
   "cell_type": "code",
   "execution_count": 29,
   "metadata": {},
   "outputs": [
    {
     "data": {
      "text/plain": [
       "<matplotlib.axes._subplots.AxesSubplot at 0x7f09accf1340>"
      ]
     },
     "execution_count": 29,
     "metadata": {},
     "output_type": "execute_result"
    },
    {
     "data": {
      "image/png": "[encoded data removed]",
      "text/plain": [
       "<Figure size 432x288 with 1 Axes>"
      ]
     },
     "metadata": {
      "needs_background": "light"
     },
     "output_type": "display_data"
    }
   ],
   "source": [
    "df = pd.DataFrame(np.random.randn(50,4), index=ts.index, \n",
    "                  columns=['A','B','X','Y'])\n",
    "df = df.cumsum ()\n",
    "df.plot()"
   ]
  },
  {
   "cell_type": "markdown",
   "metadata": {},
   "source": [
    "Removing repeated data using pandas"
   ]
  },
  {
   "cell_type": "code",
   "execution_count": 31,
   "metadata": {},
   "outputs": [
    {
     "data": {
      "text/html": [
       "<div>\n",
       "<style scoped>\n",
       "    .dataframe tbody tr th:only-of-type {\n",
       "        vertical-align: middle;\n",
       "    }\n",
       "\n",
       "    .dataframe tbody tr th {\n",
       "        vertical-align: top;\n",
       "    }\n",
       "\n",
       "    .dataframe thead th {\n",
       "        text-align: right;\n",
       "    }\n",
       "</style>\n",
       "<table border=\"1\" class=\"dataframe\">\n",
       "  <thead>\n",
       "    <tr style=\"text-align: right;\">\n",
       "      <th></th>\n",
       "      <th>A</th>\n",
       "    </tr>\n",
       "  </thead>\n",
       "  <tbody>\n",
       "    <tr>\n",
       "      <th>0</th>\n",
       "      <td>1</td>\n",
       "    </tr>\n",
       "    <tr>\n",
       "      <th>1</th>\n",
       "      <td>2</td>\n",
       "    </tr>\n",
       "    <tr>\n",
       "      <th>4</th>\n",
       "      <td>33</td>\n",
       "    </tr>\n",
       "    <tr>\n",
       "      <th>5</th>\n",
       "      <td>3</td>\n",
       "    </tr>\n",
       "    <tr>\n",
       "      <th>9</th>\n",
       "      <td>4</td>\n",
       "    </tr>\n",
       "    <tr>\n",
       "      <th>10</th>\n",
       "      <td>54</td>\n",
       "    </tr>\n",
       "    <tr>\n",
       "      <th>11</th>\n",
       "      <td>5</td>\n",
       "    </tr>\n",
       "    <tr>\n",
       "      <th>16</th>\n",
       "      <td>4</td>\n",
       "    </tr>\n",
       "    <tr>\n",
       "      <th>17</th>\n",
       "      <td>44</td>\n",
       "    </tr>\n",
       "    <tr>\n",
       "      <th>18</th>\n",
       "      <td>4</td>\n",
       "    </tr>\n",
       "    <tr>\n",
       "      <th>21</th>\n",
       "      <td>99</td>\n",
       "    </tr>\n",
       "    <tr>\n",
       "      <th>23</th>\n",
       "      <td>89</td>\n",
       "    </tr>\n",
       "    <tr>\n",
       "      <th>25</th>\n",
       "      <td>8</td>\n",
       "    </tr>\n",
       "    <tr>\n",
       "      <th>28</th>\n",
       "      <td>9</td>\n",
       "    </tr>\n",
       "    <tr>\n",
       "      <th>30</th>\n",
       "      <td>97</td>\n",
       "    </tr>\n",
       "    <tr>\n",
       "      <th>31</th>\n",
       "      <td>7</td>\n",
       "    </tr>\n",
       "    <tr>\n",
       "      <th>32</th>\n",
       "      <td>78</td>\n",
       "    </tr>\n",
       "  </tbody>\n",
       "</table>\n",
       "</div>"
      ],
      "text/plain": [
       "     A\n",
       "0    1\n",
       "1    2\n",
       "4   33\n",
       "5    3\n",
       "9    4\n",
       "10  54\n",
       "11   5\n",
       "16   4\n",
       "17  44\n",
       "18   4\n",
       "21  99\n",
       "23  89\n",
       "25   8\n",
       "28   9\n",
       "30  97\n",
       "31   7\n",
       "32  78"
      ]
     },
     "execution_count": 31,
     "metadata": {},
     "output_type": "execute_result"
    }
   ],
   "source": [
    "df = pd.DataFrame({'A':[1,2,2,2,33,3,3,3,3,4,54,5,5,5,5,5,4,44,4,4,4,99,99,89,89,8,8,8,9,9,97,7,78]})\n",
    "df\n",
    "#removing the repeated values using location loc[] and shift\n",
    "df.loc[ df['A'].shift() != df['A'] ]\n"
   ]
  },
  {
   "cell_type": "code",
   "execution_count": null,
   "metadata": {},
   "outputs": [],
   "source": []
  }
 ],
 "metadata": {
  "kernelspec": {
   "display_name": "Python 3",
   "language": "python",
   "name": "python3"
  },
  "language_info": {
   "codemirror_mode": {
    "name": "ipython",
    "version": 3
   },
   "file_extension": ".py",
   "mimetype": "text/x-python",
   "name": "python",
   "nbconvert_exporter": "python",
   "pygments_lexer": "ipython3",
   "version": "3.8.3"
  }
 },
 "nbformat": 4,
 "nbformat_minor": 4
}
