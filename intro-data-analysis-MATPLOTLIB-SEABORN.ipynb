{
 "cells": [
  {
   "cell_type": "code",
   "execution_count": 67,
   "metadata": {},
   "outputs": [
    {
     "name": "stdout",
     "output_type": "stream",
     "text": [
      "Using matplotlib backend: Qt5Agg\n",
      "<module 'seaborn' from '/home/dukelester/anaconda3/lib/python3.8/site-packages/seaborn/__init__.py'> <module 'matplotlib.pyplot' from '/home/dukelester/anaconda3/lib/python3.8/site-packages/matplotlib/pyplot.py'>\n"
     ]
    }
   ],
   "source": [
    "import numpy as np\n",
    "import matplotlib.pyplot as plt\n",
    "import seaborn as sns\n",
    "\n",
    "%matplotlib \n",
    "#want the graphs to show as outputsn not pop ups\n",
    "print(sns, plt)\n",
    "#seaborn is used for advance data visualization"
   ]
  },
  {
   "cell_type": "markdown",
   "metadata": {},
   "source": [
    "LINE CHART"
   ]
  },
  {
   "cell_type": "code",
   "execution_count": 2,
   "metadata": {},
   "outputs": [],
   "source": [
    "# %matplotlib\n",
    "#annual yields of apples per year.\n",
    "yields_apples = [0.895,0.91,0.919, 0.926,0.929,0.931]\n",
    "#plot the rields\n",
    "\n",
    "plt.plot(yields_apples);"
   ]
  },
  {
   "cell_type": "markdown",
   "metadata": {},
   "source": [
    "# customize the X axis"
   ]
  },
  {
   "cell_type": "code",
   "execution_count": 3,
   "metadata": {},
   "outputs": [
    {
     "data": {
      "text/plain": [
       "[<matplotlib.lines.Line2D at 0x7f61e42deaf0>]"
      ]
     },
     "execution_count": 3,
     "metadata": {},
     "output_type": "execute_result"
    }
   ],
   "source": [
    "years = [210, 2011, 2012, 2013, 2014, 2015]\n",
    "yields_apples = [0.895,0.91,0.919, 0.926,0.929,0.931]\n",
    "\n",
    "plt.plot(years, yields_apples)\n",
    "plt.xlabel('Years')\n",
    "plt.ylabel('Yield (tons per hectare)')\n",
    "\n",
    "years = range(2000, 2012)\n",
    "apples = np.random.rand(12)\n",
    "apples \n",
    "oranges = np.random.rand(12)\n",
    "oranges\n",
    "years\n",
    "\n",
    "plt.plot(years, apples)\n",
    "plt.plot(years, oranges)\n",
    "plt.xlabel('Years')\n",
    "plt.ylabel('Yields in tons per hectare')\n",
    "plt.show()\n",
    "\n",
    "x = np.random.randint(2,20, 10)\n",
    "y = np.sin(x)\n",
    "plt.plot(x, y)"
   ]
  },
  {
   "cell_type": "code",
   "execution_count": 4,
   "metadata": {},
   "outputs": [
    {
     "data": {
      "text/plain": [
       "[<matplotlib.lines.Line2D at 0x7f61e429c490>]"
      ]
     },
     "execution_count": 4,
     "metadata": {},
     "output_type": "execute_result"
    }
   ],
   "source": [
    "x = np.random.randint(2,20, 10)\n",
    "y = np.sin(x)\n",
    "plt.plot(x, y, marker='s', ls='--')\n",
    "plt.plot(x,y, 's--g')\n",
    "\n",
    "#changing the figure size using the figure\n",
    "plt.figure(figsize=(20,50))\n",
    "plt.plot(x,y, 's--g')"
   ]
  },
  {
   "cell_type": "code",
   "execution_count": 5,
   "metadata": {},
   "outputs": [
    {
     "data": {
      "text/plain": [
       "Text(0, 0.5, 'y axis')"
      ]
     },
     "execution_count": 5,
     "metadata": {},
     "output_type": "execute_result"
    }
   ],
   "source": [
    "#using seaborn\n",
    "\n",
    "sns.set_style(\"whitegrid\")\n",
    "plt.plot(x,y, 's--g')\n",
    "plt.title(\"My sin grapgh\")\n",
    "plt.xlabel('x axis')\n",
    "plt.ylabel('y axis')"
   ]
  },
  {
   "cell_type": "code",
   "execution_count": null,
   "metadata": {},
   "outputs": [],
   "source": []
  },
  {
   "cell_type": "markdown",
   "metadata": {},
   "source": [
    "#scatter plots"
   ]
  },
  {
   "cell_type": "code",
   "execution_count": 8,
   "metadata": {},
   "outputs": [
    {
     "data": {
      "text/plain": [
       "<matplotlib.axes._subplots.AxesSubplot at 0x7f61e40fbe20>"
      ]
     },
     "execution_count": 8,
     "metadata": {},
     "output_type": "execute_result"
    }
   ],
   "source": [
    "#scatter plots\n",
    "flowers_df = sns.load_dataset(\"iris\")\n",
    "flowers_df.species.unique()\n",
    "\n",
    "#plt.plot(flowers_df.sepal_length, flowers_df.sepal_width)\n",
    "\n",
    "#sns.scatterplot(flowers_df.sepal_length, flowers_df.sepal_width)\n",
    "#using the hue to make the plot more informnattive\n",
    "\n",
    "sns.scatterplot(flowers_df.sepal_length,\n",
    "                flowers_df.sepal_width,\n",
    "               hue=flowers_df.species,s=100)"
   ]
  },
  {
   "cell_type": "markdown",
   "metadata": {},
   "source": [
    "HISTOGRAM"
   ]
  },
  {
   "cell_type": "code",
   "execution_count": 17,
   "metadata": {},
   "outputs": [
    {
     "data": {
      "text/plain": [
       "(array([ 4.,  7., 22., 24., 50., 18., 13.,  8.,  3.,  1.,  0.]),\n",
       " array([2.  , 2.25, 2.5 , 2.75, 3.  , 3.25, 3.5 , 3.75, 4.  , 4.25, 4.5 ,\n",
       "        4.75]),\n",
       " <a list of 11 Patch objects>)"
      ]
     },
     "execution_count": 17,
     "metadata": {},
     "output_type": "execute_result"
    }
   ],
   "source": [
    "flowers_df\n",
    "flowers_df.sepal_width\n",
    "flowers_df.describe()\n",
    "plt.title(\"The hihstogram for sepals width\")\n",
    "plt.hist(flowers_df.sepal_width)\n",
    "plt.hist(flowers_df.sepal_width, bins=7)\n",
    "plt.hist(flowers_df.sepal_width, bins=np.arange(2,5,0.25))"
   ]
  },
  {
   "cell_type": "code",
   "execution_count": 29,
   "metadata": {},
   "outputs": [
    {
     "data": {
      "text/plain": [
       "<matplotlib.legend.Legend at 0x7f61cad2f610>"
      ]
     },
     "execution_count": 29,
     "metadata": {},
     "output_type": "execute_result"
    }
   ],
   "source": [
    "#multiple histograms\n",
    "\n",
    "\n",
    "#data\n",
    "setosa_df = flowers_df[flowers_df.species =='setosa']\n",
    "setosa_df\n",
    "versicolor_df = flowers_df[flowers_df.species =='versicolor']\n",
    "versicolor_df\n",
    "virginica_df = flowers_df[flowers_df.species =='virginica']\n",
    "virginica_df\n",
    "\n",
    "#ploting\n",
    "\n",
    "plt.hist(setosa_df.sepal_width, alpha=0.4, bins=np.arange(2,5,0.25));\n",
    "\n",
    "plt.hist(versicolor_df.sepal_width, alpha=0.4, bins=np.arange(2,5,0.25));\n",
    "plt.legend(['setosa','versicolor'])\n",
    "plt.title('setosa and versicolor hitograms')\n",
    "\n",
    "\n",
    "plt.hist([setosa_df.sepal_width,\n",
    "          versicolor_df.sepal_width,\n",
    "          virginica_df.sepal_width],\n",
    "         bins=np.arange(2,5,0.25),stacked=True);\n",
    "plt.legend(['setosa','versicolor','virginica'])"
   ]
  },
  {
   "cell_type": "code",
   "execution_count": 30,
   "metadata": {},
   "outputs": [
    {
     "data": {
      "text/plain": [
       "<matplotlib.legend.Legend at 0x7f61cacd41c0>"
      ]
     },
     "execution_count": 30,
     "metadata": {},
     "output_type": "execute_result"
    }
   ],
   "source": [
    "plt.title('The stacked histogram for the flowers')\n",
    "plt.hist([setosa_df.sepal_width,\n",
    "          versicolor_df.sepal_width,\n",
    "          virginica_df.sepal_width],\n",
    "         bins=np.arange(2,5,0.25),stacked=True);\n",
    "plt.legend(['setosa','versicolor','virginica'])"
   ]
  },
  {
   "cell_type": "markdown",
   "metadata": {},
   "source": [
    "Heatmap"
   ]
  },
  {
   "cell_type": "code",
   "execution_count": 46,
   "metadata": {},
   "outputs": [
    {
     "data": {
      "text/plain": [
       "<matplotlib.axes._subplots.AxesSubplot at 0x7f61cca03310>"
      ]
     },
     "execution_count": 46,
     "metadata": {},
     "output_type": "execute_result"
    }
   ],
   "source": [
    "flights_df = sns.load_dataset(\"flights\")\n",
    "flights_df\n",
    "\n",
    "plt.plot(flights_df.passengers)\n",
    "\n",
    "#using pivot\n",
    "flights_matrix = flights_df.pivot(\"month\", \"year\",\"passengers\")\n",
    "flights_matrix\n",
    "\n",
    "plt.title(\"Data Heatmap for the flights \")\n",
    "sns.heatmap(flights_matrix)\n",
    "sns.heatmap(flights_matrix, annot=True, fmt=\"d\", cmap='Reds')"
   ]
  },
  {
   "cell_type": "code",
   "execution_count": 39,
   "metadata": {},
   "outputs": [
    {
     "data": {
      "text/html": [
       "<div>\n",
       "<style scoped>\n",
       "    .dataframe tbody tr th:only-of-type {\n",
       "        vertical-align: middle;\n",
       "    }\n",
       "\n",
       "    .dataframe tbody tr th {\n",
       "        vertical-align: top;\n",
       "    }\n",
       "\n",
       "    .dataframe thead th {\n",
       "        text-align: right;\n",
       "    }\n",
       "</style>\n",
       "<table border=\"1\" class=\"dataframe\">\n",
       "  <thead>\n",
       "    <tr style=\"text-align: right;\">\n",
       "      <th></th>\n",
       "      <th>year</th>\n",
       "      <th>month</th>\n",
       "      <th>passengers</th>\n",
       "    </tr>\n",
       "  </thead>\n",
       "  <tbody>\n",
       "    <tr>\n",
       "      <th>0</th>\n",
       "      <td>1949</td>\n",
       "      <td>January</td>\n",
       "      <td>112</td>\n",
       "    </tr>\n",
       "    <tr>\n",
       "      <th>1</th>\n",
       "      <td>1949</td>\n",
       "      <td>February</td>\n",
       "      <td>118</td>\n",
       "    </tr>\n",
       "    <tr>\n",
       "      <th>2</th>\n",
       "      <td>1949</td>\n",
       "      <td>March</td>\n",
       "      <td>132</td>\n",
       "    </tr>\n",
       "    <tr>\n",
       "      <th>3</th>\n",
       "      <td>1949</td>\n",
       "      <td>April</td>\n",
       "      <td>129</td>\n",
       "    </tr>\n",
       "    <tr>\n",
       "      <th>4</th>\n",
       "      <td>1949</td>\n",
       "      <td>May</td>\n",
       "      <td>121</td>\n",
       "    </tr>\n",
       "    <tr>\n",
       "      <th>...</th>\n",
       "      <td>...</td>\n",
       "      <td>...</td>\n",
       "      <td>...</td>\n",
       "    </tr>\n",
       "    <tr>\n",
       "      <th>139</th>\n",
       "      <td>1960</td>\n",
       "      <td>August</td>\n",
       "      <td>606</td>\n",
       "    </tr>\n",
       "    <tr>\n",
       "      <th>140</th>\n",
       "      <td>1960</td>\n",
       "      <td>September</td>\n",
       "      <td>508</td>\n",
       "    </tr>\n",
       "    <tr>\n",
       "      <th>141</th>\n",
       "      <td>1960</td>\n",
       "      <td>October</td>\n",
       "      <td>461</td>\n",
       "    </tr>\n",
       "    <tr>\n",
       "      <th>142</th>\n",
       "      <td>1960</td>\n",
       "      <td>November</td>\n",
       "      <td>390</td>\n",
       "    </tr>\n",
       "    <tr>\n",
       "      <th>143</th>\n",
       "      <td>1960</td>\n",
       "      <td>December</td>\n",
       "      <td>432</td>\n",
       "    </tr>\n",
       "  </tbody>\n",
       "</table>\n",
       "<p>144 rows × 3 columns</p>\n",
       "</div>"
      ],
      "text/plain": [
       "     year      month  passengers\n",
       "0    1949    January         112\n",
       "1    1949   February         118\n",
       "2    1949      March         132\n",
       "3    1949      April         129\n",
       "4    1949        May         121\n",
       "..    ...        ...         ...\n",
       "139  1960     August         606\n",
       "140  1960  September         508\n",
       "141  1960    October         461\n",
       "142  1960   November         390\n",
       "143  1960   December         432\n",
       "\n",
       "[144 rows x 3 columns]"
      ]
     },
     "execution_count": 39,
     "metadata": {},
     "output_type": "execute_result"
    }
   ],
   "source": [
    "flights_df"
   ]
  },
  {
   "cell_type": "markdown",
   "metadata": {},
   "source": [
    "Images"
   ]
  },
  {
   "cell_type": "code",
   "execution_count": 62,
   "metadata": {},
   "outputs": [
    {
     "data": {
      "text/plain": [
       "<matplotlib.image.AxesImage at 0x7f61c2d63b50>"
      ]
     },
     "execution_count": 62,
     "metadata": {},
     "output_type": "execute_result"
    }
   ],
   "source": [
    "from PIL import Image\n",
    "img = Image.open('user.jpg')\n",
    "type(img)\n",
    "#displaying the image\n",
    "plt.imshow(img);\n",
    "\n",
    "plt.grid(False)\n",
    "plt.title(\"Image in mtaplotlib\")\n",
    "plt.axis('off')\n",
    "\n",
    "\n",
    "#array representation of the image\n",
    "\n",
    "image_array = np.array(img)\n",
    "image_array\n",
    "image_array.shape\n",
    "image_array.size\n",
    "image_array. ndim\n",
    "\n",
    "image_array\n",
    "image_array[0]\n",
    "plt.imshow(image_array[200:600])"
   ]
  },
  {
   "cell_type": "markdown",
   "metadata": {},
   "source": [
    "Multiple charts"
   ]
  },
  {
   "cell_type": "code",
   "execution_count": 65,
   "metadata": {},
   "outputs": [
    {
     "data": {
      "text/plain": [
       "<matplotlib.axes._subplots.AxesSubplot at 0x7f61c1a7ea60>"
      ]
     },
     "execution_count": 65,
     "metadata": {},
     "output_type": "execute_result"
    }
   ],
   "source": [
    "plt.subplots(2,3)\n",
    "\n",
    "fig, axis, = plt.subplots(2,3)\n",
    "fig\n",
    "axis[0,0]"
   ]
  },
  {
   "cell_type": "code",
   "execution_count": 68,
   "metadata": {},
   "outputs": [
    {
     "name": "stdout",
     "output_type": "stream",
     "text": [
      "/home/dukelester/.local/lib/python3.8/site-packages/secretstorage/dhcrypto.py:16: CryptographyDeprecationWarning: int_from_bytes is deprecated, use int.from_bytes instead\n",
      "  from cryptography.utils import int_from_bytes\n",
      "/home/dukelester/.local/lib/python3.8/site-packages/secretstorage/util.py:25: CryptographyDeprecationWarning: int_from_bytes is deprecated, use int.from_bytes instead\n",
      "  from cryptography.utils import int_from_bytes\n",
      "Collecting opendatasets\n",
      "  Downloading opendatasets-0.1.13-py3-none-any.whl (14 kB)\n",
      "Requirement already satisfied: tqdm in /home/dukelester/.local/lib/python3.8/site-packages (from opendatasets) (4.56.0)\n",
      "Collecting kaggle\n",
      "  Downloading kaggle-1.5.12.tar.gz (58 kB)\n",
      "\u001b[K     |████████████████████████████████| 58 kB 260 kB/s eta 0:00:01\n",
      "\u001b[?25hRequirement already satisfied: click in /home/dukelester/anaconda3/lib/python3.8/site-packages (from opendatasets) (7.1.2)\n",
      "Requirement already satisfied: six>=1.10 in /home/dukelester/.local/lib/python3.8/site-packages (from kaggle->opendatasets) (1.15.0)\n",
      "Requirement already satisfied: certifi in /home/dukelester/.local/lib/python3.8/site-packages (from kaggle->opendatasets) (2020.6.20)\n",
      "Requirement already satisfied: python-dateutil in /home/dukelester/anaconda3/lib/python3.8/site-packages (from kaggle->opendatasets) (2.8.1)\n",
      "Requirement already satisfied: requests in /home/dukelester/.local/lib/python3.8/site-packages (from kaggle->opendatasets) (2.24.0)\n",
      "Collecting python-slugify\n",
      "  Downloading python_slugify-5.0.2-py2.py3-none-any.whl (6.7 kB)\n",
      "Requirement already satisfied: urllib3 in /home/dukelester/.local/lib/python3.8/site-packages (from kaggle->opendatasets) (1.25.10)\n",
      "Requirement already satisfied: text-unidecode>=1.3 in /home/dukelester/.local/lib/python3.8/site-packages (from python-slugify->kaggle->opendatasets) (1.3)\n",
      "Requirement already satisfied: idna<3,>=2.5 in /home/dukelester/anaconda3/lib/python3.8/site-packages (from requests->kaggle->opendatasets) (2.10)\n",
      "Requirement already satisfied: chardet<4,>=3.0.2 in /home/dukelester/anaconda3/lib/python3.8/site-packages (from requests->kaggle->opendatasets) (3.0.4)\n",
      "Building wheels for collected packages: kaggle\n",
      "  Building wheel for kaggle (setup.py) ... \u001b[?25ldone\n",
      "\u001b[?25h  Created wheel for kaggle: filename=kaggle-1.5.12-py3-none-any.whl size=73053 sha256=827e70225f772bbceeb6f7df27257a2299ca49a4a5670b49cb90d9ce7b931af9\n",
      "  Stored in directory: /home/dukelester/.cache/pip/wheels/29/da/11/144cc25aebdaeb4931b231e25fd34b394e6a5725cbb2f50106\n",
      "Successfully built kaggle\n",
      "Installing collected packages: python-slugify, kaggle, opendatasets\n",
      "Successfully installed kaggle-1.5.12 opendatasets-0.1.13 python-slugify-5.0.2\n",
      "\u001b[33mWARNING: You are using pip version 21.0.1; however, version 21.1.2 is available.\n",
      "You should consider upgrading via the '/home/dukelester/anaconda3/bin/python -m pip install --upgrade pip' command.\u001b[0m\n"
     ]
    }
   ],
   "source": [
    "!pip install opendatasets"
   ]
  },
  {
   "cell_type": "code",
   "execution_count": 72,
   "metadata": {},
   "outputs": [
    {
     "name": "stdout",
     "output_type": "stream",
     "text": [
      "Using downloaded and verified file: ./stackoverflow-developer-survey-2020/survey_results_public.csv\n",
      "Using downloaded and verified file: ./stackoverflow-developer-survey-2020/survey_results_schema.csv\n",
      "Using downloaded and verified file: ./stackoverflow-developer-survey-2020/README.txt\n"
     ]
    }
   ],
   "source": [
    "import opendatasets as od\n",
    "\n",
    "od.download('stackoverflow-developer-survey-2020')"
   ]
  },
  {
   "cell_type": "code",
   "execution_count": null,
   "metadata": {},
   "outputs": [],
   "source": []
  }
 ],
 "metadata": {
  "kernelspec": {
   "display_name": "Python 3",
   "language": "python",
   "name": "python3"
  },
  "language_info": {
   "codemirror_mode": {
    "name": "ipython",
    "version": 3
   },
   "file_extension": ".py",
   "mimetype": "text/x-python",
   "name": "python",
   "nbconvert_exporter": "python",
   "pygments_lexer": "ipython3",
   "version": "3.8.3"
  }
 },
 "nbformat": 4,
 "nbformat_minor": 4
}
